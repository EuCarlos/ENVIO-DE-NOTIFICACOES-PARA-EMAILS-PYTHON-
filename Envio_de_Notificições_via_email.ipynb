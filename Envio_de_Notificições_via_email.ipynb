{
  "nbformat": 4,
  "nbformat_minor": 0,
  "metadata": {
    "colab": {
      "provenance": [],
      "toc_visible": true
    },
    "kernelspec": {
      "name": "python3",
      "display_name": "Python 3"
    },
    "language_info": {
      "name": "python"
    }
  },
  "cells": [
    {
      "cell_type": "markdown",
      "source": [
        "# Envio de notificações via E-mail\n",
        "\n",
        "1. Primeiro passo para o projeto é criar um arquivo chamado \"contas.json\" (como não temos como gerar o arquivo, então o json será armazenado em uma variavel \"contas\")"
      ],
      "metadata": {
        "id": "pgRmv2qIfuVK"
      }
    },
    {
      "cell_type": "code",
      "execution_count": 1,
      "metadata": {
        "id": "8f2TzvN8e_SP"
      },
      "outputs": [],
      "source": [
        "contas = [\n",
        "  {\n",
        "    \"Nome\": \"João Silva\",\n",
        "    \"Email\": \"joao.silva@exemplo.com\",\n",
        "    \"Descricao_Conta\": \"Mensalidade do Sistema\",\n",
        "    \"Valor\": 150.00,\n",
        "    \"Data_Vencimento\": \"2025-07-12\"\n",
        "  },\n",
        "  {\n",
        "    \"Nome\": \"Maria Oliveira\",\n",
        "    \"Email\": \"maria.oliveira@exemplo.com\",\n",
        "    \"Descricao_Conta\": \"Assinatura Software X\",\n",
        "    \"Valor\": 299.90,\n",
        "    \"Data_Vencimento\": \"2025-07-16\"\n",
        "  },\n",
        "  {\n",
        "    \"Nome\": \"Carlos Souza\",\n",
        "    \"Email\": \"carlos.souza@exemplo.com\",\n",
        "    \"Descricao_Conta\": \"Serviço de Consultoria\",\n",
        "    \"Valor\": 1200.00,\n",
        "    \"Data_Vencimento\": \"2025-07-20\"\n",
        "  },\n",
        "  {\n",
        "    \"Nome\": \"Ana Costa\",\n",
        "    \"Email\": \"ana.costa@exemplo.com\",\n",
        "    \"Descricao_Conta\": \"Manutenção Servidor\",\n",
        "    \"Valor\": 500.00,\n",
        "    \"Data_Vencimento\": \"2025-07-10\"\n",
        "  },\n",
        "  {\n",
        "    \"Nome\": \"Pedro Almeida\",\n",
        "    \"Email\": \"pedro.almeida@exemplo.com\",\n",
        "    \"Descricao_Conta\": \"Hospedagem de Site\",\n",
        "    \"Valor\": 80.00,\n",
        "    \"Data_Vencimento\": \"2025-07-15\"\n",
        "  }\n",
        "]"
      ]
    },
    {
      "cell_type": "code",
      "source": [
        "print(contas)"
      ],
      "metadata": {
        "colab": {
          "base_uri": "https://localhost:8080/"
        },
        "id": "TCZt9PjSgj2x",
        "outputId": "8a08f700-1a41-420a-9e05-2edd3c3ad725"
      },
      "execution_count": 2,
      "outputs": [
        {
          "output_type": "stream",
          "name": "stdout",
          "text": [
            "[{'Nome': 'João Silva', 'Email': 'joao.silva@exemplo.com', 'Descricao_Conta': 'Mensalidade do Sistema', 'Valor': 150.0, 'Data_Vencimento': '2025-07-12'}, {'Nome': 'Maria Oliveira', 'Email': 'maria.oliveira@exemplo.com', 'Descricao_Conta': 'Assinatura Software X', 'Valor': 299.9, 'Data_Vencimento': '2025-07-16'}, {'Nome': 'Carlos Souza', 'Email': 'carlos.souza@exemplo.com', 'Descricao_Conta': 'Serviço de Consultoria', 'Valor': 1200.0, 'Data_Vencimento': '2025-07-20'}, {'Nome': 'Ana Costa', 'Email': 'ana.costa@exemplo.com', 'Descricao_Conta': 'Manutenção Servidor', 'Valor': 500.0, 'Data_Vencimento': '2025-07-10'}, {'Nome': 'Pedro Almeida', 'Email': 'pedro.almeida@exemplo.com', 'Descricao_Conta': 'Hospedagem de Site', 'Valor': 80.0, 'Data_Vencimento': '2025-07-15'}]\n"
          ]
        }
      ]
    },
    {
      "cell_type": "markdown",
      "source": [
        "2. Agora o proximo passo é importar as bibliotecas"
      ],
      "metadata": {
        "id": "wY0QeQeUgrY2"
      }
    },
    {
      "cell_type": "code",
      "source": [
        "# import json\n",
        "import smtplib\n",
        "from email.mime.text import MIMEText\n",
        "from email.mime.multipart import MIMEMultipart\n",
        "from datetime import datetime, timedelta"
      ],
      "metadata": {
        "id": "9QF4N3rggzxT"
      },
      "execution_count": 3,
      "outputs": []
    },
    {
      "cell_type": "markdown",
      "source": [
        "3. Crie um arquivo .env com os seguintes paramentros:\n",
        "```shell\n",
        "SENDER_EMAIL=seu_email@gmail.com\n",
        "SENDER_PASSWORD=sua_senha_de_app\n",
        "SMTP_SERVER=smtp.gmail.com\n",
        "SMTP_PORT=587\n",
        "```"
      ],
      "metadata": {
        "id": "miSYu2JPhJfA"
      }
    },
    {
      "cell_type": "code",
      "source": [
        "from dotenv import load_dotenv # Importa a função para carregar o .env\n",
        "import os # Importa a biblioteca os para acessar variáveis de ambiente\n",
        "\n",
        "# --- Carregar variáveis de ambiente do arquivo .env ---\n",
        "load_dotenv()\n",
        "\n",
        "# --- Configurações de E-mail (agora lidas do .env) ---\n",
        "SENDER_EMAIL = os.getenv(\"SENDER_EMAIL\")\n",
        "SENDER_PASSWORD = os.getenv(\"SENDER_PASSWORD\")\n",
        "SMTP_SERVER = os.getenv(\"SMTP_SERVER\")\n",
        "SMTP_PORT = int(os.getenv(\"SMTP_PORT\")) # Converte para inteiro, pois vem como string"
      ],
      "metadata": {
        "id": "i_Kl_Q8lhQw-"
      },
      "execution_count": null,
      "outputs": []
    },
    {
      "cell_type": "code",
      "source": [
        "# --- Configurações de E-mail ---\n",
        "# Preencha com as suas informações de e-mail\n",
        "SENDER_EMAIL = \"seu_email@gmail.com\"  # Seu endereço de e-mail\n",
        "SENDER_PASSWORD = \"sua_senha_de_app\" # Sua senha de aplicativo ou senha normal (para testes)\n",
        "SMTP_SERVER = \"smtp.gmail.com\"\n",
        "SMTP_PORT = 587 # Ou 465 para SSL, 587 para TLS"
      ],
      "metadata": {
        "id": "hG7Zjy3_iQPD"
      },
      "execution_count": 4,
      "outputs": []
    },
    {
      "cell_type": "code",
      "source": [
        "# --- Configurações do Lembrete ---\n",
        "DIAS_ANTES_VENCIMENTO = 3 # Enviar lembrete se faltarem X dias para o vencimento"
      ],
      "metadata": {
        "id": "0PjGHf4AiVSh"
      },
      "execution_count": 5,
      "outputs": []
    },
    {
      "cell_type": "code",
      "source": [
        "# --- Função para Enviar E-mail ---\n",
        "def enviar_email(destinatario, assunto, corpo_email):\n",
        "    msg = MIMEMultipart()\n",
        "    msg['From'] = SENDER_EMAIL\n",
        "    msg['To'] = destinatario\n",
        "    msg['Subject'] = assunto\n",
        "    msg.attach(MIMEText(corpo_email, 'plain'))\n",
        "\n",
        "    try:\n",
        "        server = smtplib.SMTP(SMTP_SERVER, SMTP_PORT)\n",
        "        server.starttls() # Inicia a conexão TLS para segurança\n",
        "        server.login(SENDER_EMAIL, SENDER_PASSWORD)\n",
        "        text = msg.as_string()\n",
        "        server.sendmail(SENDER_EMAIL, destinatario, text)\n",
        "        server.quit()\n",
        "        print(f\"E-mail enviado para: {destinatario} - Assunto: '{assunto}'\")\n",
        "    except Exception as e:\n",
        "        print(f\"Erro ao enviar e-mail para {destinatario}: {e}\")\n",
        "        print(\"Verifique suas credenciais de e-mail e configurações SMTP.\")\n",
        "        print(\"Para Gmail, lembre-se de usar 'Senha de App' se tiver verificação em duas etapas.\")"
      ],
      "metadata": {
        "id": "QllvMY3tiZFM"
      },
      "execution_count": 6,
      "outputs": []
    },
    {
      "cell_type": "code",
      "source": [
        "# --- Lógica Principal ---\n",
        "def main():\n",
        "    print(\"Iniciando verificação de pagamentos...\")\n",
        "    ### ESSE CODIGO É PARA SER DESCOMENTADO QUANDO ESTIVER EM UM AMBIENTE OFICIAL\n",
        "    # try:\n",
        "    #     # Carregar os dados do arquivo JSON\n",
        "    #     with open('contas.json', 'r', encoding='utf-8') as f:\n",
        "    #         pagamentos = json.load(f)\n",
        "    # except FileNotFoundError:\n",
        "    #     print(\"Erro: O arquivo 'contas.json' não foi encontrado. Certifique-se de que ele está na mesma pasta do script.\")\n",
        "    #     return\n",
        "    # except json.JSONDecodeError:\n",
        "    #     print(\"Erro: O arquivo 'contas.json' não é um JSON válido. Verifique a sintaxe.\")\n",
        "    #     return\n",
        "\n",
        "    ### ESSE CODIGO É PARA SER REMOVIDO QUANDO ESTIVER EM UM AMBIENTE OFICIAL\n",
        "    pagamentos = contas\n",
        "\n",
        "    hoje = datetime.now().date() # Data atual sem a hora\n",
        "\n",
        "    for pagamento in pagamentos:\n",
        "        try:\n",
        "            nome = pagamento['Nome']\n",
        "            email = pagamento['Email']\n",
        "            descricao = pagamento['Descricao_Conta']\n",
        "            valor = pagamento['Valor']\n",
        "            data_vencimento_str = pagamento['Data_Vencimento']\n",
        "            data_vencimento = datetime.strptime(data_vencimento_str, '%Y-%m-%d').date() # Converte string para data\n",
        "        except KeyError as e:\n",
        "            print(f\"Erro: Campo '{e}' ausente em um dos registros JSON. Verifique a estrutura do arquivo.\")\n",
        "            continue # Pula para o próximo registro\n",
        "\n",
        "        dias_restantes = (data_vencimento - hoje).days\n",
        "\n",
        "        # Verificando se a conta está vencida (dias_restantes < 0)\n",
        "        # Ou se está próxima do vencimento (entre 0 e DIAS_ANTES_VENCIMENTO)\n",
        "        if dias_restantes < 0:\n",
        "            assunto = f\"Atenção: Seu pagamento de {descricao} está VENCIDO!\"\n",
        "            corpo = f\"\"\"Prezado(a) {nome},\n",
        "\n",
        "Informamos que seu pagamento referente a '{descricao}', no valor de R$ {valor:.2f}, com vencimento em {data_vencimento.strftime('%d/%m/%Y')}, encontra-se VENCIDO.\n",
        "\n",
        "Por favor, regularize sua situação o mais breve possível.\n",
        "\n",
        "Atenciosamente,\n",
        "Sua Empresa\n",
        "\"\"\"\n",
        "            enviar_email(email, assunto, corpo)\n",
        "        elif 0 <= dias_restantes <= DIAS_ANTES_VENCIMENTO:\n",
        "            assunto = f\"Lembrete: Seu pagamento de {descricao} vence em breve!\"\n",
        "            corpo = f\"\"\"Prezado(a) {nome},\n",
        "\n",
        "Este é um lembrete amigável de que seu pagamento referente a '{descricao}', no valor de R$ {valor:.2f}, vence em {data_vencimento.strftime('%d/%m/%Y')}.\n",
        "\n",
        "Por favor, efetue o pagamento para evitar interrupções no serviço.\n",
        "\n",
        "Atenciosamente,\n",
        "Sua Empresa\n",
        "\"\"\"\n",
        "            enviar_email(email, assunto, corpo)\n",
        "        else:\n",
        "            print(f\"Pagamento de {nome} ({descricao}) está em dia ou não se enquadra no lembrete. Vence em {dias_restantes} dias.\")\n",
        "\n",
        "    print(\"\\nVerificação de pagamentos concluída.\")\n",
        "\n",
        "if __name__ == \"__main__\":\n",
        "    main()"
      ],
      "metadata": {
        "colab": {
          "base_uri": "https://localhost:8080/"
        },
        "id": "GJWsT7AiijHU",
        "outputId": "4d8a9856-64e9-41f7-fb55-914b10f16d91"
      },
      "execution_count": 11,
      "outputs": [
        {
          "output_type": "stream",
          "name": "stdout",
          "text": [
            "Iniciando verificação de pagamentos...\n",
            "Erro ao enviar e-mail para joao.silva@exemplo.com: (535, b'5.7.8 Username and Password not accepted. For more information, go to\\n5.7.8  https://support.google.com/mail/?p=BadCredentials af79cd13be357-7dcdc0f7d1csm656907485a.39 - gsmtp')\n",
            "Verifique suas credenciais de e-mail e configurações SMTP.\n",
            "Para Gmail, lembre-se de usar 'Senha de App' se tiver verificação em duas etapas.\n",
            "Erro ao enviar e-mail para maria.oliveira@exemplo.com: (535, b'5.7.8 Username and Password not accepted. For more information, go to\\n5.7.8  https://support.google.com/mail/?p=BadCredentials 6a1803df08f44-7049799eaa7sm61143226d6.7 - gsmtp')\n",
            "Verifique suas credenciais de e-mail e configurações SMTP.\n",
            "Para Gmail, lembre-se de usar 'Senha de App' se tiver verificação em duas etapas.\n",
            "Pagamento de Carlos Souza (Serviço de Consultoria) está em dia ou não se enquadra no lembrete. Vence em 5 dias.\n",
            "Erro ao enviar e-mail para ana.costa@exemplo.com: (535, b'5.7.8 Username and Password not accepted. For more information, go to\\n5.7.8  https://support.google.com/mail/?p=BadCredentials 6a1803df08f44-70497d39c9dsm60981156d6.66 - gsmtp')\n",
            "Verifique suas credenciais de e-mail e configurações SMTP.\n",
            "Para Gmail, lembre-se de usar 'Senha de App' se tiver verificação em duas etapas.\n",
            "Erro ao enviar e-mail para pedro.almeida@exemplo.com: (535, b'5.7.8 Username and Password not accepted. For more information, go to\\n5.7.8  https://support.google.com/mail/?p=BadCredentials d75a77b69052e-4ab6a00c474sm25893321cf.28 - gsmtp')\n",
            "Verifique suas credenciais de e-mail e configurações SMTP.\n",
            "Para Gmail, lembre-se de usar 'Senha de App' se tiver verificação em duas etapas.\n",
            "\n",
            "Verificação de pagamentos concluída.\n"
          ]
        }
      ]
    }
  ]
}